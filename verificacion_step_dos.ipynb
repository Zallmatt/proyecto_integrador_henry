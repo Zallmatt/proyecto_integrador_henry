{
 "cells": [
  {
   "cell_type": "code",
   "execution_count": 1,
   "id": "2430aad3",
   "metadata": {},
   "outputs": [
    {
     "name": "stdout",
     "output_type": "stream",
     "text": [
      "✅ Conexión exitosa\n"
     ]
    }
   ],
   "source": [
    "from src.database.db_connector import DatabaseConnector\n",
    "\n",
    "db = DatabaseConnector()\n",
    "session = db.get_session()\n",
    "print(\"✅ Conexión exitosa\")\n"
   ]
  },
  {
   "cell_type": "code",
   "execution_count": 2,
   "id": "8391b847",
   "metadata": {},
   "outputs": [
    {
     "data": {
      "text/html": [
       "<div>\n",
       "<style scoped>\n",
       "    .dataframe tbody tr th:only-of-type {\n",
       "        vertical-align: middle;\n",
       "    }\n",
       "\n",
       "    .dataframe tbody tr th {\n",
       "        vertical-align: top;\n",
       "    }\n",
       "\n",
       "    .dataframe thead th {\n",
       "        text-align: right;\n",
       "    }\n",
       "</style>\n",
       "<table border=\"1\" class=\"dataframe\">\n",
       "  <thead>\n",
       "    <tr style=\"text-align: right;\">\n",
       "      <th></th>\n",
       "      <th>sale_id</th>\n",
       "      <th>employee_id</th>\n",
       "      <th>customer_id</th>\n",
       "      <th>product_id</th>\n",
       "      <th>quantity</th>\n",
       "      <th>discount</th>\n",
       "      <th>total_price</th>\n",
       "      <th>sale_time</th>\n",
       "      <th>transaction_number</th>\n",
       "    </tr>\n",
       "  </thead>\n",
       "  <tbody>\n",
       "    <tr>\n",
       "      <th>0</th>\n",
       "      <td>14</td>\n",
       "      <td>7</td>\n",
       "      <td>33133</td>\n",
       "      <td>406</td>\n",
       "      <td>9</td>\n",
       "      <td>0.00</td>\n",
       "      <td>63.00</td>\n",
       "      <td>39:52.0</td>\n",
       "      <td>VOP9A7Y4C5XSM2LLT0UJ\\r</td>\n",
       "    </tr>\n",
       "    <tr>\n",
       "      <th>1</th>\n",
       "      <td>170</td>\n",
       "      <td>10</td>\n",
       "      <td>19039</td>\n",
       "      <td>377</td>\n",
       "      <td>5</td>\n",
       "      <td>0.00</td>\n",
       "      <td>50.00</td>\n",
       "      <td>33:40.0</td>\n",
       "      <td>VIIKLFPVD2D5U5E3NKKA\\r</td>\n",
       "    </tr>\n",
       "    <tr>\n",
       "      <th>2</th>\n",
       "      <td>416</td>\n",
       "      <td>16</td>\n",
       "      <td>71212</td>\n",
       "      <td>351</td>\n",
       "      <td>19</td>\n",
       "      <td>0.00</td>\n",
       "      <td>304.00</td>\n",
       "      <td>40:57.4</td>\n",
       "      <td>QFA3F3LANPC6UVQBPYL2\\r</td>\n",
       "    </tr>\n",
       "    <tr>\n",
       "      <th>3</th>\n",
       "      <td>486</td>\n",
       "      <td>23</td>\n",
       "      <td>93253</td>\n",
       "      <td>417</td>\n",
       "      <td>24</td>\n",
       "      <td>0.00</td>\n",
       "      <td>552.00</td>\n",
       "      <td>59:29.4</td>\n",
       "      <td>6H8SDUI9MCA1IXZ4UCUE\\r</td>\n",
       "    </tr>\n",
       "    <tr>\n",
       "      <th>4</th>\n",
       "      <td>659</td>\n",
       "      <td>13</td>\n",
       "      <td>65151</td>\n",
       "      <td>147</td>\n",
       "      <td>17</td>\n",
       "      <td>0.20</td>\n",
       "      <td>221.00</td>\n",
       "      <td>27:58.9</td>\n",
       "      <td>1O062RUFV0LVAQ94G38J\\r</td>\n",
       "    </tr>\n",
       "  </tbody>\n",
       "</table>\n",
       "</div>"
      ],
      "text/plain": [
       "   sale_id  employee_id  customer_id  product_id  quantity discount  \\\n",
       "0       14            7        33133         406         9     0.00   \n",
       "1      170           10        19039         377         5     0.00   \n",
       "2      416           16        71212         351        19     0.00   \n",
       "3      486           23        93253         417        24     0.00   \n",
       "4      659           13        65151         147        17     0.20   \n",
       "\n",
       "  total_price sale_time      transaction_number  \n",
       "0       63.00   39:52.0  VOP9A7Y4C5XSM2LLT0UJ\\r  \n",
       "1       50.00   33:40.0  VIIKLFPVD2D5U5E3NKKA\\r  \n",
       "2      304.00   40:57.4  QFA3F3LANPC6UVQBPYL2\\r  \n",
       "3      552.00   59:29.4  6H8SDUI9MCA1IXZ4UCUE\\r  \n",
       "4      221.00   27:58.9  1O062RUFV0LVAQ94G38J\\r  "
      ]
     },
     "execution_count": 2,
     "metadata": {},
     "output_type": "execute_result"
    }
   ],
   "source": [
    "df = db.run_query(\"SELECT * FROM sales LIMIT 5\")\n",
    "df.head()"
   ]
  },
  {
   "cell_type": "code",
   "execution_count": 3,
   "id": "7d482984",
   "metadata": {},
   "outputs": [
    {
     "name": "stdout",
     "output_type": "stream",
     "text": [
      "{'_customer_id': 1, '_first_name': 'Matias', '_middle_initial': 'F', '_last_name': 'Zalazar', '_city_id': 100, '_address': 'Belgrano 111'}\n"
     ]
    }
   ],
   "source": [
    "from src.factories.model_factory import ModelFactory\n",
    "\n",
    "row = {\n",
    "    \"CustomerID\": 1,\n",
    "    \"FirstName\": \"Matias\",\n",
    "    \"MiddleInitial\": \"F\",\n",
    "    \"LastName\": \"Zalazar\",\n",
    "    \"CityID\": 100,\n",
    "    \"Address\": \"Belgrano 111\"\n",
    "}\n",
    "\n",
    "customer = ModelFactory.create_customer(row)\n",
    "print(customer.__dict__)\n"
   ]
  },
  {
   "cell_type": "code",
   "execution_count": 7,
   "id": "3557ce16",
   "metadata": {},
   "outputs": [
    {
     "name": "stdout",
     "output_type": "stream",
     "text": [
      "\u001b[32m.\u001b[0m\u001b[32m.\u001b[0m\u001b[32m.\u001b[0m\u001b[32m.\u001b[0m\u001b[32m.\u001b[0m\u001b[32m.\u001b[0m\u001b[32m.\u001b[0m\u001b[32m.\u001b[0m\u001b[32m.\u001b[0m\u001b[32m.\u001b[0m\u001b[32m.\u001b[0m\u001b[32m                                                              [100%]\u001b[0m\n",
      "\u001b[32m\u001b[32m\u001b[1m11 passed\u001b[0m\u001b[32m in 0.87s\u001b[0m\u001b[0m\n"
     ]
    }
   ],
   "source": [
    "!pytest -q test/ --tb=short"
   ]
  },
  {
   "cell_type": "code",
   "execution_count": null,
   "id": "5c530966",
   "metadata": {},
   "outputs": [
    {
     "name": "stdout",
     "output_type": "stream",
     "text": [
      "📦 Integración completada con éxito\n",
      "Fecha de ejecución: 2025-06-04 21:40:15\n"
     ]
    }
   ],
   "source": [
    "from datetime import datetime\n",
    "print(\"📦 Integración completada con éxito\")\n",
    "print(\"Fecha de ejecución:\", datetime.now().strftime(\"%Y-%m-%d %H:%M:%S\"))"
   ]
  }
 ],
 "metadata": {
  "kernelspec": {
   "display_name": "venv",
   "language": "python",
   "name": "python3"
  },
  "language_info": {
   "codemirror_mode": {
    "name": "ipython",
    "version": 3
   },
   "file_extension": ".py",
   "mimetype": "text/x-python",
   "name": "python",
   "nbconvert_exporter": "python",
   "pygments_lexer": "ipython3",
   "version": "3.13.2"
  }
 },
 "nbformat": 4,
 "nbformat_minor": 5
}
