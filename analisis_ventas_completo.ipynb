{
 "cells": [
  {
   "cell_type": "markdown",
   "id": "924c860e",
   "metadata": {},
   "source": [
    "Aquí instanciamos el conector singleton a la base de datos y verificamos que la sesión se haya abierto correctamente."
   ]
  },
  {
   "cell_type": "code",
   "execution_count": 1,
   "id": "2430aad3",
   "metadata": {},
   "outputs": [
    {
     "name": "stdout",
     "output_type": "stream",
     "text": [
      "✅ Conexión exitosa\n"
     ]
    }
   ],
   "source": [
    "from src.database.db_connector import DatabaseConnector\n",
    "\n",
    "db = DatabaseConnector()\n",
    "session = db.get_session()\n",
    "print(\"✅ Conexión exitosa\")\n"
   ]
  },
  {
   "cell_type": "markdown",
   "id": "d6b6122b",
   "metadata": {},
   "source": [
    "### Consulta de las primeras 5 filas de ventas\n",
    "Consultamos los primeros registros de la tabla `sales` para verificar que la conexión y los datos estén cargados correctamente."
   ]
  },
  {
   "cell_type": "code",
   "execution_count": 2,
   "id": "8391b847",
   "metadata": {},
   "outputs": [
    {
     "data": {
      "text/html": [
       "<div>\n",
       "<style scoped>\n",
       "    .dataframe tbody tr th:only-of-type {\n",
       "        vertical-align: middle;\n",
       "    }\n",
       "\n",
       "    .dataframe tbody tr th {\n",
       "        vertical-align: top;\n",
       "    }\n",
       "\n",
       "    .dataframe thead th {\n",
       "        text-align: right;\n",
       "    }\n",
       "</style>\n",
       "<table border=\"1\" class=\"dataframe\">\n",
       "  <thead>\n",
       "    <tr style=\"text-align: right;\">\n",
       "      <th></th>\n",
       "      <th>sale_id</th>\n",
       "      <th>employee_id</th>\n",
       "      <th>customer_id</th>\n",
       "      <th>product_id</th>\n",
       "      <th>quantity</th>\n",
       "      <th>discount</th>\n",
       "      <th>total_price</th>\n",
       "      <th>sale_time</th>\n",
       "      <th>transaction_number</th>\n",
       "    </tr>\n",
       "  </thead>\n",
       "  <tbody>\n",
       "    <tr>\n",
       "      <th>0</th>\n",
       "      <td>14</td>\n",
       "      <td>7</td>\n",
       "      <td>33133</td>\n",
       "      <td>406</td>\n",
       "      <td>9</td>\n",
       "      <td>0.00</td>\n",
       "      <td>63.00</td>\n",
       "      <td>39:52.0</td>\n",
       "      <td>VOP9A7Y4C5XSM2LLT0UJ\\r</td>\n",
       "    </tr>\n",
       "    <tr>\n",
       "      <th>1</th>\n",
       "      <td>170</td>\n",
       "      <td>10</td>\n",
       "      <td>19039</td>\n",
       "      <td>377</td>\n",
       "      <td>5</td>\n",
       "      <td>0.00</td>\n",
       "      <td>50.00</td>\n",
       "      <td>33:40.0</td>\n",
       "      <td>VIIKLFPVD2D5U5E3NKKA\\r</td>\n",
       "    </tr>\n",
       "    <tr>\n",
       "      <th>2</th>\n",
       "      <td>416</td>\n",
       "      <td>16</td>\n",
       "      <td>71212</td>\n",
       "      <td>351</td>\n",
       "      <td>19</td>\n",
       "      <td>0.00</td>\n",
       "      <td>304.00</td>\n",
       "      <td>40:57.4</td>\n",
       "      <td>QFA3F3LANPC6UVQBPYL2\\r</td>\n",
       "    </tr>\n",
       "    <tr>\n",
       "      <th>3</th>\n",
       "      <td>486</td>\n",
       "      <td>23</td>\n",
       "      <td>93253</td>\n",
       "      <td>417</td>\n",
       "      <td>24</td>\n",
       "      <td>0.00</td>\n",
       "      <td>552.00</td>\n",
       "      <td>59:29.4</td>\n",
       "      <td>6H8SDUI9MCA1IXZ4UCUE\\r</td>\n",
       "    </tr>\n",
       "    <tr>\n",
       "      <th>4</th>\n",
       "      <td>659</td>\n",
       "      <td>13</td>\n",
       "      <td>65151</td>\n",
       "      <td>147</td>\n",
       "      <td>17</td>\n",
       "      <td>0.20</td>\n",
       "      <td>221.00</td>\n",
       "      <td>27:58.9</td>\n",
       "      <td>1O062RUFV0LVAQ94G38J\\r</td>\n",
       "    </tr>\n",
       "  </tbody>\n",
       "</table>\n",
       "</div>"
      ],
      "text/plain": [
       "   sale_id  employee_id  customer_id  product_id  quantity discount  \\\n",
       "0       14            7        33133         406         9     0.00   \n",
       "1      170           10        19039         377         5     0.00   \n",
       "2      416           16        71212         351        19     0.00   \n",
       "3      486           23        93253         417        24     0.00   \n",
       "4      659           13        65151         147        17     0.20   \n",
       "\n",
       "  total_price sale_time      transaction_number  \n",
       "0       63.00   39:52.0  VOP9A7Y4C5XSM2LLT0UJ\\r  \n",
       "1       50.00   33:40.0  VIIKLFPVD2D5U5E3NKKA\\r  \n",
       "2      304.00   40:57.4  QFA3F3LANPC6UVQBPYL2\\r  \n",
       "3      552.00   59:29.4  6H8SDUI9MCA1IXZ4UCUE\\r  \n",
       "4      221.00   27:58.9  1O062RUFV0LVAQ94G38J\\r  "
      ]
     },
     "execution_count": 2,
     "metadata": {},
     "output_type": "execute_result"
    }
   ],
   "source": [
    "df = db.run_query(\"SELECT * FROM sales LIMIT 5\")\n",
    "df.head()"
   ]
  },
  {
   "cell_type": "markdown",
   "id": "567edf40",
   "metadata": {},
   "source": [
    "###  Uso del patrón Factory\n",
    "Se instancia un objeto `Customer` a partir de una fila tipo diccionario. Esto permite desacoplar la construcción de objetos del origen de datos."
   ]
  },
  {
   "cell_type": "code",
   "execution_count": 3,
   "id": "7d482984",
   "metadata": {},
   "outputs": [
    {
     "name": "stdout",
     "output_type": "stream",
     "text": [
      "{'_customer_id': 1, '_first_name': 'Matias', '_middle_initial': 'F', '_last_name': 'Zalazar', '_city_id': 100, '_address': 'Belgrano 111'}\n"
     ]
    }
   ],
   "source": [
    "from src.factories.model_factory import ModelFactory\n",
    "\n",
    "row = {\n",
    "    \"CustomerID\": 1,\n",
    "    \"FirstName\": \"Matias\",\n",
    "    \"MiddleInitial\": \"F\",\n",
    "    \"LastName\": \"Zalazar\",\n",
    "    \"CityID\": 100,\n",
    "    \"Address\": \"Belgrano 111\"\n",
    "}\n",
    "\n",
    "customer = ModelFactory.create_customer(row)\n",
    "print(customer.__dict__)\n"
   ]
  },
  {
   "cell_type": "markdown",
   "id": "e3a1eb12",
   "metadata": {},
   "source": [
    "### Ejecución de pruebas unitarias\n",
    "Se corre `pytest` sobre la carpeta `test/` para validar la integridad de las clases, conexión y factories implementadas."
   ]
  },
  {
   "cell_type": "code",
   "execution_count": 1,
   "id": "3557ce16",
   "metadata": {},
   "outputs": [
    {
     "name": "stdout",
     "output_type": "stream",
     "text": [
      "\u001b[32m.\u001b[0m\u001b[32m.\u001b[0m\u001b[32m.\u001b[0m\u001b[32m.\u001b[0m\u001b[32m.\u001b[0m\u001b[32m.\u001b[0m\u001b[32m.\u001b[0m\u001b[32m.\u001b[0m\u001b[32m.\u001b[0m\u001b[32m.\u001b[0m\u001b[32m.\u001b[0m\u001b[32m                                                              [100%]\u001b[0m\n",
      "\u001b[32m\u001b[32m\u001b[1m11 passed\u001b[0m\u001b[32m in 1.00s\u001b[0m\u001b[0m\n"
     ]
    }
   ],
   "source": [
    "!pytest -q test/ --tb=short"
   ]
  },
  {
   "cell_type": "markdown",
   "id": "5613a24c",
   "metadata": {},
   "source": [
    "### Registro de la ejecución\n",
    "Marcamos la fecha y hora de finalización del proceso como evidencia de ejecución exitosa."
   ]
  },
  {
   "cell_type": "code",
   "execution_count": null,
   "id": "5c530966",
   "metadata": {},
   "outputs": [
    {
     "name": "stdout",
     "output_type": "stream",
     "text": [
      "📦 Integración completada con éxito\n",
      "Fecha de ejecución: 2025-06-04 21:40:15\n"
     ]
    }
   ],
   "source": [
    "from datetime import datetime\n",
    "print(\"📦 Integración completada con éxito\")\n",
    "print(\"Fecha de ejecución:\", datetime.now().strftime(\"%Y-%m-%d %H:%M:%S\"))"
   ]
  },
  {
   "cell_type": "markdown",
   "id": "a8ad7aab",
   "metadata": {},
   "source": [
    "## Consulta avanzada \n",
    "Esta consulta utiliza una Common Table Expression (CTE) llamada ventas_por_ciudad, donde se agrupan las ventas totales (SUM(total_price)) por ciudad. Luego, la consulta principal ordena los resultados de mayor a menor volumen de ventas.\n",
    "\n",
    "Objetivo: Identificar las ciudades con mayores ventas totales."
   ]
  },
  {
   "cell_type": "code",
   "execution_count": 4,
   "id": "50ce5751",
   "metadata": {},
   "outputs": [
    {
     "name": "stdout",
     "output_type": "stream",
     "text": [
      "   city_id       city_name total_ventas\n",
      "0       94         Yonkers    102038.00\n",
      "1       81      Sacramento     93261.00\n",
      "2       85  St. Petersburg     92329.00\n",
      "3       54     Albuquerque     92055.00\n",
      "4       71         Phoenix     90623.00\n"
     ]
    }
   ],
   "source": [
    "query_cte = \"\"\"WITH ventas_por_ciudad AS (\n",
    "  SELECT c.city_id, ci.city_name, SUM(s.total_price) AS total_ventas\n",
    "  FROM sales s\n",
    "  JOIN customers c ON s.customer_id = c.customer_id\n",
    "  JOIN cities ci ON c.city_id = ci.city_id\n",
    "  GROUP BY c.city_id, ci.city_name\n",
    ")\n",
    "SELECT * FROM ventas_por_ciudad ORDER BY total_ventas DESC;\n",
    "\"\"\"\n",
    "df_cte = db.run_query(query_cte)\n",
    "print(df_cte.head())"
   ]
  },
  {
   "cell_type": "markdown",
   "id": "206f1f20",
   "metadata": {},
   "source": [
    "Esta consulta aplica la función de ventana RANK() para asignar un ranking a cada empleado, basado en el total vendido (SUM(total_price)). Se utiliza OVER(ORDER BY ...) para calcular el ranking de forma descendente.\n",
    "\n",
    "Objetivo: Determinar el top 10 de empleados que generaron más ingresos."
   ]
  },
  {
   "cell_type": "code",
   "execution_count": 5,
   "id": "2dd98364",
   "metadata": {},
   "outputs": [
    {
     "name": "stdout",
     "output_type": "stream",
     "text": [
      "   employee_id first_name total_vendido  ranking\n",
      "0           23      Janet     665091.00        1\n",
      "1           22      Tonia     631158.00        2\n",
      "2           21      Devon     618744.00        3\n",
      "3           20     Shelby     569220.00        4\n",
      "4           19    Bernard     538954.00        5\n"
     ]
    }
   ],
   "source": [
    "query_rank = \"\"\"SELECT \n",
    "  e.employee_id,\n",
    "  e.first_name,\n",
    "  SUM(s.total_price) AS total_vendido,\n",
    "  RANK() OVER (ORDER BY SUM(s.total_price) DESC) AS ranking\n",
    "FROM sales s\n",
    "JOIN employees e ON s.employee_id = e.employee_id\n",
    "GROUP BY e.employee_id, e.first_name\n",
    "LIMIT 10;\n",
    "\"\"\"\n",
    "df_rank = db.run_query(query_rank)\n",
    "print(df_rank.head())"
   ]
  },
  {
   "cell_type": "markdown",
   "id": "b2b07379",
   "metadata": {},
   "source": [
    "En esta consulta se utiliza la función de ventana RANK() para clasificar a los clientes según el total gastado en compras. Se combina CONCAT() para mostrar el nombre completo y se agrupan las ventas por cliente.\n",
    "\n",
    "Objetivo: Obtener el top 10 de clientes que más dinero gastaron, ordenados por total_gastado."
   ]
  },
  {
   "cell_type": "code",
   "execution_count": 6,
   "id": "1e0fc47d",
   "metadata": {},
   "outputs": [
    {
     "name": "stdout",
     "output_type": "stream",
     "text": [
      "   customer_id         cliente total_gastado  posicion\n",
      "0        91038   Darcy Bullock       1872.00         1\n",
      "1        94115    Blake Dalton       1848.00         2\n",
      "2        96485  Forrest Morton       1700.00         3\n",
      "3        98273   Curtis Harmon       1650.00         4\n",
      "4        73360  Allison Davies       1615.00         5\n"
     ]
    }
   ],
   "source": [
    "query_sales_per_customer = \"\"\"SELECT \n",
    "  c.customer_id,\n",
    "  CONCAT(c.first_name, ' ', c.last_name) AS cliente,\n",
    "  SUM(s.total_price) AS total_gastado,\n",
    "  RANK() OVER (ORDER BY SUM(s.total_price) DESC) AS posicion\n",
    "FROM sales s\n",
    "JOIN customers c ON s.customer_id = c.customer_id\n",
    "GROUP BY c.customer_id, c.first_name, c.last_name\n",
    "LIMIT 10;\n",
    "\"\"\"\n",
    "df_sales_per_customer = db.run_query(query_sales_per_customer)\n",
    "print(df_sales_per_customer.head())"
   ]
  },
  {
   "cell_type": "markdown",
   "id": "7b3cff89",
   "metadata": {},
   "source": [
    "Esta consulta utiliza una Common Table Expression (CTE) para calcular la cantidad total vendida de cada producto, agrupada por categoría. Luego, se aplica la función de ventana `RANK()` con `PARTITION BY` para generar un ranking dentro de cada categoría, permitiendo identificar los productos más vendidos por tipo.\n",
    "\n",
    "Objetivo: Obtener el top 3 de productos más vendidos dentro de cada categoría, en función de la cantidad de unidades vendidas.\n"
   ]
  },
  {
   "cell_type": "code",
   "execution_count": 3,
   "id": "be88627d",
   "metadata": {},
   "outputs": [
    {
     "name": "stdout",
     "output_type": "stream",
     "text": [
      "   product_id                     product_name  category_id total_vendido  posicion\n",
      "0         156                Sprouts - Alfalfa            1          1910         1\n",
      "1         250    Soup - Campbells; Beef Barley            1          1858         2\n",
      "2         451  Soup - Campbells Tomato Ravioli            1          1728         3\n",
      "3         383      Cake - Box Window 10x10x2.5            2          1882         1\n",
      "4         212             Curry Paste - Madras            2          1811         2\n",
      "5         418             Truffle Cups - Brown            2          1671         3\n",
      "6          65                     Brandy - Bar            3          1904         1\n",
      "7         177        Coconut - Shredded; Sweet            3          1896         2\n",
      "8         424               Vinegar - Tarragon            3          1830         3\n",
      "9         252     Nantucket - Pomegranate Pear            4          1657         1\n"
     ]
    }
   ],
   "source": [
    "import pandas as pd\n",
    "pd.set_option('display.width', None)\n",
    "pd.set_option('display.max_columns', None)\n",
    "pd.set_option('display.expand_frame_repr', False)\n",
    "\n",
    "query_top_products = \"\"\"\n",
    "WITH producto_categoria AS (\n",
    "  SELECT \n",
    "    p.product_id,\n",
    "    p.product_name,\n",
    "    p.category_id,\n",
    "    SUM(s.quantity) AS total_vendido,\n",
    "    RANK() OVER (PARTITION BY p.category_id ORDER BY SUM(s.quantity) DESC) AS posicion\n",
    "  FROM sales s\n",
    "  JOIN products p ON s.product_id = p.product_id\n",
    "  GROUP BY p.product_id, p.product_name, p.category_id\n",
    ")\n",
    "SELECT * FROM producto_categoria\n",
    "WHERE posicion <= 3;\n",
    "\"\"\"\n",
    "\n",
    "df_top_products = db.run_query(query_top_products)\n",
    "print(df_top_products[['product_id', 'product_name', 'category_id', 'total_vendido', 'posicion']].head(10))"
   ]
  },
  {
   "cell_type": "markdown",
   "id": "247ae8b6",
   "metadata": {},
   "source": [
    "Esta consulta utiliza una CTE llamada `ventas_rank` para identificar los días con mayor volumen de ventas. Se agrupan los datos por fecha (`DATE(s.sale_time)`) y se calcula el total vendido por día (`SUM(total_price)`). Luego, se utiliza la función de ventana `ROW_NUMBER()` para asignar una posición en el ranking de días más fuertes en términos de facturación.\n",
    "\n",
    "Se incluye un filtro `WHERE DATE(s.sale_time) IS NOT NULL` para evitar registros con fechas nulas que puedan aparecer como `None` en el resultado.\n",
    "\n",
    "Objetivo: Detectar los 10 días con mayor facturación total en el histórico de ventas.\n",
    "\n"
   ]
  },
  {
   "cell_type": "code",
   "execution_count": 16,
   "id": "ef9f19cc",
   "metadata": {},
   "outputs": [
    {
     "name": "stdout",
     "output_type": "stream",
     "text": [
      "        fecha total_dia  dia_mas_fuerte\n",
      "0  2057-02-04   1762.00               1\n",
      "1  2058-07-08   1718.00               2\n",
      "2  2015-01-03   1514.00               3\n",
      "3  2012-03-04   1503.00               4\n",
      "4  2004-10-02   1463.00               5\n",
      "5  2049-07-03   1447.00               6\n",
      "6  2023-04-06   1434.00               7\n",
      "7  2034-03-08   1380.00               8\n",
      "8  2043-11-05   1361.00               9\n",
      "9  2045-12-02   1357.00              10\n"
     ]
    }
   ],
   "source": [
    "query_dias_fuertes = \"\"\"\n",
    "WITH ventas_rank AS (\n",
    "  SELECT\n",
    "    DATE(s.sale_time) AS fecha,\n",
    "    SUM(s.total_price) AS total_dia,\n",
    "    ROW_NUMBER() OVER (ORDER BY SUM(s.total_price) DESC) AS dia_mas_fuerte\n",
    "  FROM sales s\n",
    "  WHERE DATE(s.sale_time) IS NOT NULL\n",
    "  GROUP BY DATE(s.sale_time)\n",
    ")\n",
    "SELECT * FROM ventas_rank\n",
    "LIMIT 10;\n",
    "\"\"\"\n",
    "\n",
    "df_dias_fuertes = db.run_query(query_dias_fuertes)\n",
    "print(df_dias_fuertes)\n"
   ]
  },
  {
   "cell_type": "markdown",
   "id": "899756ec",
   "metadata": {},
   "source": [
    "Estas consultas permiten responder preguntas clave como:\n",
    "- ¿Qué ciudades generan más ingresos?\n",
    "- ¿Quiénes son los empleados más efectivos en ventas?\n",
    "- ¿Qué clientes representan el mayor valor comercial?\n",
    "Esta información puede ser utilizada para diseñar campañas, establecer prioridades de expansión o premiar a personal destacado.\n"
   ]
  },
  {
   "cell_type": "markdown",
   "id": "3e8a7e13",
   "metadata": {},
   "source": [
    "## Vista SQL \n",
    "\n",
    "Creamos una vista que consolida información de ventas incluyendo datos del producto, cliente y empleado. Esto permite consultar fácilmente reportes enriquecidos sin escribir joins complejos cada vez.\n",
    "\n",
    "Esta vista es útil para dashboards, análisis de ventas por empleados o revisión de tickets.\n",
    "Consolida datos de ventas uniendo productos, clientes y empleados, lo que permite análisis más completos y reutilizables.\n",
    "\n",
    "Objetivo del objeto SQL: facilitar la consulta reutilizable de datos.\n"
   ]
  },
  {
   "cell_type": "code",
   "execution_count": 7,
   "id": "03c2a8d5",
   "metadata": {},
   "outputs": [
    {
     "name": "stdout",
     "output_type": "stream",
     "text": [
      "✅ Vista creada correctamente\n"
     ]
    }
   ],
   "source": [
    "from sqlalchemy import text\n",
    "\n",
    "vista_sql = \"\"\"\n",
    "CREATE OR REPLACE VIEW vista_ventas_enriquecidas AS\n",
    "SELECT \n",
    "    s.sale_id,\n",
    "    s.total_price,\n",
    "    s.discount,\n",
    "    s.sale_time,\n",
    "    p.product_name,\n",
    "    c.first_name AS cliente,\n",
    "    e.first_name AS empleado\n",
    "FROM sales s\n",
    "JOIN customers c ON s.customer_id = c.customer_id\n",
    "JOIN employees e ON s.employee_id = e.employee_id\n",
    "JOIN products p ON s.product_id = p.product_id\n",
    "\"\"\"\n",
    "\n",
    "db.get_session().execute(text(vista_sql))\n",
    "print(\"✅ Vista creada correctamente\")\n"
   ]
  },
  {
   "cell_type": "code",
   "execution_count": 8,
   "id": "e4ecbc66",
   "metadata": {},
   "outputs": [
    {
     "data": {
      "text/html": [
       "<div>\n",
       "<style scoped>\n",
       "    .dataframe tbody tr th:only-of-type {\n",
       "        vertical-align: middle;\n",
       "    }\n",
       "\n",
       "    .dataframe tbody tr th {\n",
       "        vertical-align: top;\n",
       "    }\n",
       "\n",
       "    .dataframe thead th {\n",
       "        text-align: right;\n",
       "    }\n",
       "</style>\n",
       "<table border=\"1\" class=\"dataframe\">\n",
       "  <thead>\n",
       "    <tr style=\"text-align: right;\">\n",
       "      <th></th>\n",
       "      <th>sale_id</th>\n",
       "      <th>total_price</th>\n",
       "      <th>discount</th>\n",
       "      <th>sale_time</th>\n",
       "      <th>product_name</th>\n",
       "      <th>cliente</th>\n",
       "      <th>empleado</th>\n",
       "    </tr>\n",
       "  </thead>\n",
       "  <tbody>\n",
       "    <tr>\n",
       "      <th>0</th>\n",
       "      <td>6950</td>\n",
       "      <td>119.00</td>\n",
       "      <td>0.00</td>\n",
       "      <td>46:33.6</td>\n",
       "      <td>Flour - Whole Wheat</td>\n",
       "      <td>Toby</td>\n",
       "      <td>Seth</td>\n",
       "    </tr>\n",
       "    <tr>\n",
       "      <th>1</th>\n",
       "      <td>281342</td>\n",
       "      <td>294.00</td>\n",
       "      <td>0.20</td>\n",
       "      <td>04:25.2</td>\n",
       "      <td>Flour - Whole Wheat</td>\n",
       "      <td>Judith</td>\n",
       "      <td>Devon</td>\n",
       "    </tr>\n",
       "    <tr>\n",
       "      <th>2</th>\n",
       "      <td>299898</td>\n",
       "      <td>187.00</td>\n",
       "      <td>0.00</td>\n",
       "      <td>48:48.1</td>\n",
       "      <td>Flour - Whole Wheat</td>\n",
       "      <td>Marco</td>\n",
       "      <td>Sonya</td>\n",
       "    </tr>\n",
       "    <tr>\n",
       "      <th>3</th>\n",
       "      <td>460059</td>\n",
       "      <td>345.00</td>\n",
       "      <td>0.00</td>\n",
       "      <td>16:34.1</td>\n",
       "      <td>Flour - Whole Wheat</td>\n",
       "      <td>Marla</td>\n",
       "      <td>Janet</td>\n",
       "    </tr>\n",
       "    <tr>\n",
       "      <th>4</th>\n",
       "      <td>521261</td>\n",
       "      <td>68.00</td>\n",
       "      <td>0.00</td>\n",
       "      <td>02:27.6</td>\n",
       "      <td>Flour - Whole Wheat</td>\n",
       "      <td>Shari</td>\n",
       "      <td>Darnell</td>\n",
       "    </tr>\n",
       "  </tbody>\n",
       "</table>\n",
       "</div>"
      ],
      "text/plain": [
       "   sale_id total_price discount sale_time         product_name cliente  \\\n",
       "0     6950      119.00     0.00   46:33.6  Flour - Whole Wheat    Toby   \n",
       "1   281342      294.00     0.20   04:25.2  Flour - Whole Wheat  Judith   \n",
       "2   299898      187.00     0.00   48:48.1  Flour - Whole Wheat   Marco   \n",
       "3   460059      345.00     0.00   16:34.1  Flour - Whole Wheat   Marla   \n",
       "4   521261       68.00     0.00   02:27.6  Flour - Whole Wheat   Shari   \n",
       "\n",
       "  empleado  \n",
       "0     Seth  \n",
       "1    Devon  \n",
       "2    Sonya  \n",
       "3    Janet  \n",
       "4  Darnell  "
      ]
     },
     "execution_count": 8,
     "metadata": {},
     "output_type": "execute_result"
    }
   ],
   "source": [
    "\n",
    "df_vista = db.run_query(\"SELECT * FROM vista_ventas_enriquecidas LIMIT 5\")\n",
    "df_vista"
   ]
  },
  {
   "cell_type": "markdown",
   "id": "85f9a6b1",
   "metadata": {},
   "source": [
    "### Vista: Clientes Frecuentes\n",
    "Esta vista permite identificar los clientes que realizaron más compras y cuánto gastaron en total. Ideal para segmentar usuarios recurrentes o aplicar estrategias de fidelización."
   ]
  },
  {
   "cell_type": "code",
   "execution_count": 17,
   "id": "f0545213",
   "metadata": {},
   "outputs": [
    {
     "name": "stdout",
     "output_type": "stream",
     "text": [
      "✅ Vista 'vista_clientes_frecuentes' creada correctamente\n"
     ]
    }
   ],
   "source": [
    "from sqlalchemy import text\n",
    "\n",
    "vista_clientes_frecuentes = \"\"\"\n",
    "CREATE OR REPLACE VIEW vista_clientes_frecuentes AS\n",
    "SELECT \n",
    "    c.customer_id,\n",
    "    CONCAT(c.first_name, ' ', c.last_name) AS cliente,\n",
    "    COUNT(s.sale_id) AS cantidad_compras,\n",
    "    SUM(s.total_price) AS total_gastado\n",
    "FROM sales s\n",
    "JOIN customers c ON s.customer_id = c.customer_id\n",
    "GROUP BY c.customer_id, c.first_name, c.last_name\n",
    "ORDER BY cantidad_compras DESC;\n",
    "\"\"\"\n",
    "\n",
    "db.get_session().execute(text(vista_clientes_frecuentes))\n",
    "print(\"✅ Vista 'vista_clientes_frecuentes' creada correctamente\")\n"
   ]
  },
  {
   "cell_type": "code",
   "execution_count": 18,
   "id": "3136888a",
   "metadata": {},
   "outputs": [
    {
     "data": {
      "text/html": [
       "<div>\n",
       "<style scoped>\n",
       "    .dataframe tbody tr th:only-of-type {\n",
       "        vertical-align: middle;\n",
       "    }\n",
       "\n",
       "    .dataframe tbody tr th {\n",
       "        vertical-align: top;\n",
       "    }\n",
       "\n",
       "    .dataframe thead th {\n",
       "        text-align: right;\n",
       "    }\n",
       "</style>\n",
       "<table border=\"1\" class=\"dataframe\">\n",
       "  <thead>\n",
       "    <tr style=\"text-align: right;\">\n",
       "      <th></th>\n",
       "      <th>customer_id</th>\n",
       "      <th>cliente</th>\n",
       "      <th>cantidad_compras</th>\n",
       "      <th>total_gastado</th>\n",
       "    </tr>\n",
       "  </thead>\n",
       "  <tbody>\n",
       "    <tr>\n",
       "      <th>0</th>\n",
       "      <td>60994</td>\n",
       "      <td>Rex Fields</td>\n",
       "      <td>6</td>\n",
       "      <td>1056.00</td>\n",
       "    </tr>\n",
       "    <tr>\n",
       "      <th>1</th>\n",
       "      <td>38149</td>\n",
       "      <td>Terrence Gray</td>\n",
       "      <td>5</td>\n",
       "      <td>520.00</td>\n",
       "    </tr>\n",
       "    <tr>\n",
       "      <th>2</th>\n",
       "      <td>69146</td>\n",
       "      <td>Toby Chambers</td>\n",
       "      <td>5</td>\n",
       "      <td>954.00</td>\n",
       "    </tr>\n",
       "    <tr>\n",
       "      <th>3</th>\n",
       "      <td>94115</td>\n",
       "      <td>Blake Dalton</td>\n",
       "      <td>5</td>\n",
       "      <td>1848.00</td>\n",
       "    </tr>\n",
       "    <tr>\n",
       "      <th>4</th>\n",
       "      <td>75042</td>\n",
       "      <td>Jake Hines</td>\n",
       "      <td>5</td>\n",
       "      <td>1045.00</td>\n",
       "    </tr>\n",
       "    <tr>\n",
       "      <th>5</th>\n",
       "      <td>73360</td>\n",
       "      <td>Allison Davies</td>\n",
       "      <td>5</td>\n",
       "      <td>1615.00</td>\n",
       "    </tr>\n",
       "    <tr>\n",
       "      <th>6</th>\n",
       "      <td>33150</td>\n",
       "      <td>Brock Bates</td>\n",
       "      <td>5</td>\n",
       "      <td>522.00</td>\n",
       "    </tr>\n",
       "    <tr>\n",
       "      <th>7</th>\n",
       "      <td>60837</td>\n",
       "      <td>Trisha Clay</td>\n",
       "      <td>5</td>\n",
       "      <td>752.00</td>\n",
       "    </tr>\n",
       "    <tr>\n",
       "      <th>8</th>\n",
       "      <td>69707</td>\n",
       "      <td>Elijah Eaton</td>\n",
       "      <td>5</td>\n",
       "      <td>630.00</td>\n",
       "    </tr>\n",
       "    <tr>\n",
       "      <th>9</th>\n",
       "      <td>76478</td>\n",
       "      <td>Alex David</td>\n",
       "      <td>5</td>\n",
       "      <td>1280.00</td>\n",
       "    </tr>\n",
       "  </tbody>\n",
       "</table>\n",
       "</div>"
      ],
      "text/plain": [
       "   customer_id         cliente  cantidad_compras total_gastado\n",
       "0        60994      Rex Fields                 6       1056.00\n",
       "1        38149   Terrence Gray                 5        520.00\n",
       "2        69146   Toby Chambers                 5        954.00\n",
       "3        94115    Blake Dalton                 5       1848.00\n",
       "4        75042      Jake Hines                 5       1045.00\n",
       "5        73360  Allison Davies                 5       1615.00\n",
       "6        33150     Brock Bates                 5        522.00\n",
       "7        60837     Trisha Clay                 5        752.00\n",
       "8        69707    Elijah Eaton                 5        630.00\n",
       "9        76478      Alex David                 5       1280.00"
      ]
     },
     "execution_count": 18,
     "metadata": {},
     "output_type": "execute_result"
    }
   ],
   "source": [
    "df_frecuentes = db.run_query(\"SELECT * FROM vista_clientes_frecuentes LIMIT 10\")\n",
    "df_frecuentes\n"
   ]
  },
  {
   "cell_type": "markdown",
   "id": "b5fb6fe1",
   "metadata": {},
   "source": [
    "### Vista: Productos con Descuento\n",
    "Esta vista permite observar cuáles productos se vendieron con descuento, cuántas veces y con qué promedio de rebaja. Útil para analizar promociones efectivas."
   ]
  },
  {
   "cell_type": "code",
   "execution_count": 19,
   "id": "aacce8af",
   "metadata": {},
   "outputs": [
    {
     "name": "stdout",
     "output_type": "stream",
     "text": [
      "✅ Vista 'vista_productos_con_descuento' creada correctamente\n"
     ]
    }
   ],
   "source": [
    "vista_productos_con_descuento = \"\"\"\n",
    "CREATE OR REPLACE VIEW vista_productos_con_descuento AS\n",
    "SELECT \n",
    "    p.product_id,\n",
    "    p.product_name,\n",
    "    COUNT(s.sale_id) AS ventas_con_descuento,\n",
    "    SUM(s.total_price) AS total_recaudado,\n",
    "    AVG(s.discount) AS descuento_promedio\n",
    "FROM sales s\n",
    "JOIN products p ON s.product_id = p.product_id\n",
    "WHERE s.discount > 0\n",
    "GROUP BY p.product_id, p.product_name\n",
    "ORDER BY ventas_con_descuento DESC;\n",
    "\"\"\"\n",
    "\n",
    "db.get_session().execute(text(vista_productos_con_descuento))\n",
    "print(\"✅ Vista 'vista_productos_con_descuento' creada correctamente\")\n"
   ]
  },
  {
   "cell_type": "code",
   "execution_count": 21,
   "id": "00fad7e3",
   "metadata": {},
   "outputs": [
    {
     "data": {
      "text/html": [
       "<div>\n",
       "<style scoped>\n",
       "    .dataframe tbody tr th:only-of-type {\n",
       "        vertical-align: middle;\n",
       "    }\n",
       "\n",
       "    .dataframe tbody tr th {\n",
       "        vertical-align: top;\n",
       "    }\n",
       "\n",
       "    .dataframe thead th {\n",
       "        text-align: right;\n",
       "    }\n",
       "</style>\n",
       "<table border=\"1\" class=\"dataframe\">\n",
       "  <thead>\n",
       "    <tr style=\"text-align: right;\">\n",
       "      <th></th>\n",
       "      <th>product_id</th>\n",
       "      <th>product_name</th>\n",
       "      <th>ventas_con_descuento</th>\n",
       "      <th>total_recaudado</th>\n",
       "      <th>descuento_promedio</th>\n",
       "    </tr>\n",
       "  </thead>\n",
       "  <tbody>\n",
       "    <tr>\n",
       "      <th>0</th>\n",
       "      <td>422</td>\n",
       "      <td>Garlic - Primerba; Paste</td>\n",
       "      <td>39</td>\n",
       "      <td>6916.00</td>\n",
       "      <td>15.38%</td>\n",
       "    </tr>\n",
       "    <tr>\n",
       "      <th>1</th>\n",
       "      <td>314</td>\n",
       "      <td>Salmon Steak - Cohoe 8 Oz</td>\n",
       "      <td>35</td>\n",
       "      <td>6474.00</td>\n",
       "      <td>14.29%</td>\n",
       "    </tr>\n",
       "    <tr>\n",
       "      <th>2</th>\n",
       "      <td>118</td>\n",
       "      <td>Garbag Bags - Black</td>\n",
       "      <td>33</td>\n",
       "      <td>5973.00</td>\n",
       "      <td>14.24%</td>\n",
       "    </tr>\n",
       "    <tr>\n",
       "      <th>3</th>\n",
       "      <td>174</td>\n",
       "      <td>Guinea Fowl</td>\n",
       "      <td>33</td>\n",
       "      <td>4884.00</td>\n",
       "      <td>16.06%</td>\n",
       "    </tr>\n",
       "    <tr>\n",
       "      <th>4</th>\n",
       "      <td>48</td>\n",
       "      <td>Pecan Raisin - Tarts</td>\n",
       "      <td>32</td>\n",
       "      <td>5104.00</td>\n",
       "      <td>15.00%</td>\n",
       "    </tr>\n",
       "    <tr>\n",
       "      <th>5</th>\n",
       "      <td>99</td>\n",
       "      <td>Mustard - Seed</td>\n",
       "      <td>32</td>\n",
       "      <td>5522.00</td>\n",
       "      <td>15.62%</td>\n",
       "    </tr>\n",
       "    <tr>\n",
       "      <th>6</th>\n",
       "      <td>59</td>\n",
       "      <td>Pastry - Butterscotch Baked</td>\n",
       "      <td>31</td>\n",
       "      <td>3914.00</td>\n",
       "      <td>15.48%</td>\n",
       "    </tr>\n",
       "    <tr>\n",
       "      <th>7</th>\n",
       "      <td>23</td>\n",
       "      <td>Crab - Imitation Flakes</td>\n",
       "      <td>31</td>\n",
       "      <td>5415.00</td>\n",
       "      <td>15.16%</td>\n",
       "    </tr>\n",
       "    <tr>\n",
       "      <th>8</th>\n",
       "      <td>94</td>\n",
       "      <td>V8 - Berry Blend</td>\n",
       "      <td>31</td>\n",
       "      <td>5971.00</td>\n",
       "      <td>13.87%</td>\n",
       "    </tr>\n",
       "    <tr>\n",
       "      <th>9</th>\n",
       "      <td>184</td>\n",
       "      <td>Hersey Shakes</td>\n",
       "      <td>31</td>\n",
       "      <td>5415.00</td>\n",
       "      <td>14.84%</td>\n",
       "    </tr>\n",
       "  </tbody>\n",
       "</table>\n",
       "</div>"
      ],
      "text/plain": [
       "   product_id                 product_name  ventas_con_descuento total_recaudado descuento_promedio\n",
       "0         422     Garlic - Primerba; Paste                    39         6916.00             15.38%\n",
       "1         314    Salmon Steak - Cohoe 8 Oz                    35         6474.00             14.29%\n",
       "2         118          Garbag Bags - Black                    33         5973.00             14.24%\n",
       "3         174                  Guinea Fowl                    33         4884.00             16.06%\n",
       "4          48         Pecan Raisin - Tarts                    32         5104.00             15.00%\n",
       "5          99               Mustard - Seed                    32         5522.00             15.62%\n",
       "6          59  Pastry - Butterscotch Baked                    31         3914.00             15.48%\n",
       "7          23      Crab - Imitation Flakes                    31         5415.00             15.16%\n",
       "8          94             V8 - Berry Blend                    31         5971.00             13.87%\n",
       "9         184                Hersey Shakes                    31         5415.00             14.84%"
      ]
     },
     "execution_count": 21,
     "metadata": {},
     "output_type": "execute_result"
    }
   ],
   "source": [
    "df_descuentos = db.run_query(\"SELECT * FROM vista_productos_con_descuento LIMIT 10\")\n",
    "df_descuentos[\"descuento_promedio\"] = df_descuentos[\"descuento_promedio\"].apply(lambda x: f\"{x:.2%}\")\n",
    "df_descuentos\n"
   ]
  },
  {
   "cell_type": "markdown",
   "id": "ff6ee0d3",
   "metadata": {},
   "source": [
    "### Vista: Clientes Recientes\n",
    "Objetivo: Mostrar los últimos clientes que realizaron compras, ordenados por fecha de la última compra."
   ]
  },
  {
   "cell_type": "code",
   "execution_count": 3,
   "id": "62badc58",
   "metadata": {},
   "outputs": [
    {
     "name": "stdout",
     "output_type": "stream",
     "text": [
      "✅ Vista 'vista_clientes_recientes' creada correctamente\n"
     ]
    }
   ],
   "source": [
    "from sqlalchemy import text\n",
    "\n",
    "vista_clientes_recientes = \"\"\"\n",
    "CREATE OR REPLACE VIEW vista_clientes_recientes AS\n",
    "SELECT\n",
    "  c.customer_id,\n",
    "  CONCAT(c.first_name, ' ', c.last_name) AS cliente,\n",
    "  MAX(s.sale_time) AS ultima_compra\n",
    "FROM customers c\n",
    "JOIN sales s ON c.customer_id = s.customer_id\n",
    "GROUP BY c.customer_id, cliente\n",
    "ORDER BY ultima_compra DESC;\n",
    "\"\"\"\n",
    "\n",
    "db.get_session().execute(text(vista_clientes_recientes))\n",
    "print(\"✅ Vista 'vista_clientes_recientes' creada correctamente\")"
   ]
  },
  {
   "cell_type": "code",
   "execution_count": 4,
   "id": "6718b5bc",
   "metadata": {},
   "outputs": [
    {
     "data": {
      "text/html": [
       "<div>\n",
       "<style scoped>\n",
       "    .dataframe tbody tr th:only-of-type {\n",
       "        vertical-align: middle;\n",
       "    }\n",
       "\n",
       "    .dataframe tbody tr th {\n",
       "        vertical-align: top;\n",
       "    }\n",
       "\n",
       "    .dataframe thead th {\n",
       "        text-align: right;\n",
       "    }\n",
       "</style>\n",
       "<table border=\"1\" class=\"dataframe\">\n",
       "  <thead>\n",
       "    <tr style=\"text-align: right;\">\n",
       "      <th></th>\n",
       "      <th>customer_id</th>\n",
       "      <th>cliente</th>\n",
       "      <th>ultima_compra</th>\n",
       "    </tr>\n",
       "  </thead>\n",
       "  <tbody>\n",
       "    <tr>\n",
       "      <th>0</th>\n",
       "      <td>8986</td>\n",
       "      <td>Linda Cummings</td>\n",
       "      <td>59:59.6</td>\n",
       "    </tr>\n",
       "    <tr>\n",
       "      <th>1</th>\n",
       "      <td>18075</td>\n",
       "      <td>Eduardo Irwin</td>\n",
       "      <td>59:59.6</td>\n",
       "    </tr>\n",
       "    <tr>\n",
       "      <th>2</th>\n",
       "      <td>64936</td>\n",
       "      <td>Earl Waller</td>\n",
       "      <td>59:59.4</td>\n",
       "    </tr>\n",
       "    <tr>\n",
       "      <th>3</th>\n",
       "      <td>61064</td>\n",
       "      <td>Peggy Sanford</td>\n",
       "      <td>59:59.3</td>\n",
       "    </tr>\n",
       "    <tr>\n",
       "      <th>4</th>\n",
       "      <td>94027</td>\n",
       "      <td>Ellen Villa</td>\n",
       "      <td>59:59.2</td>\n",
       "    </tr>\n",
       "    <tr>\n",
       "      <th>5</th>\n",
       "      <td>24838</td>\n",
       "      <td>Alan Armstrong</td>\n",
       "      <td>59:59.2</td>\n",
       "    </tr>\n",
       "    <tr>\n",
       "      <th>6</th>\n",
       "      <td>17746</td>\n",
       "      <td>Rodolfo Leach</td>\n",
       "      <td>59:59.0</td>\n",
       "    </tr>\n",
       "    <tr>\n",
       "      <th>7</th>\n",
       "      <td>33645</td>\n",
       "      <td>Milton Stone</td>\n",
       "      <td>59:58.9</td>\n",
       "    </tr>\n",
       "    <tr>\n",
       "      <th>8</th>\n",
       "      <td>20976</td>\n",
       "      <td>Jamal Suarez</td>\n",
       "      <td>59:58.9</td>\n",
       "    </tr>\n",
       "    <tr>\n",
       "      <th>9</th>\n",
       "      <td>51070</td>\n",
       "      <td>Vicky Matthews</td>\n",
       "      <td>59:58.9</td>\n",
       "    </tr>\n",
       "  </tbody>\n",
       "</table>\n",
       "</div>"
      ],
      "text/plain": [
       "   customer_id         cliente ultima_compra\n",
       "0         8986  Linda Cummings       59:59.6\n",
       "1        18075   Eduardo Irwin       59:59.6\n",
       "2        64936     Earl Waller       59:59.4\n",
       "3        61064   Peggy Sanford       59:59.3\n",
       "4        94027     Ellen Villa       59:59.2\n",
       "5        24838  Alan Armstrong       59:59.2\n",
       "6        17746   Rodolfo Leach       59:59.0\n",
       "7        33645    Milton Stone       59:58.9\n",
       "8        20976    Jamal Suarez       59:58.9\n",
       "9        51070  Vicky Matthews       59:58.9"
      ]
     },
     "execution_count": 4,
     "metadata": {},
     "output_type": "execute_result"
    }
   ],
   "source": [
    "df_recientes = db.run_query(\"SELECT * FROM vista_clientes_recientes LIMIT 10\")\n",
    "df_recientes"
   ]
  },
  {
   "cell_type": "markdown",
   "id": "4acb55f6",
   "metadata": {},
   "source": [
    "### Vista: Ventas por Dia por Semana\n",
    "Objetivo: Visualizar los días de la semana con más ventas para detectar patrones de comportamiento (por ejemplo, promociones efectivas en fines de semana o caídas los lunes)."
   ]
  },
  {
   "cell_type": "code",
   "execution_count": 2,
   "id": "6723e1a0",
   "metadata": {},
   "outputs": [
    {
     "name": "stdout",
     "output_type": "stream",
     "text": [
      "✅ Vista 'vista_ventas_por_dia_semana' creada correctamente\n"
     ]
    }
   ],
   "source": [
    "from sqlalchemy import text  # ✔️ Import correcto\n",
    "\n",
    "vista_ventas_por_dia = \"\"\"\n",
    "CREATE OR REPLACE VIEW vista_ventas_por_dia_semana AS\n",
    "SELECT\n",
    "  DAYNAME(s.sale_time) AS dia_semana,\n",
    "  COUNT(*) AS cantidad_ventas,\n",
    "  SUM(s.total_price) AS total_recaudado\n",
    "FROM sales s\n",
    "WHERE s.sale_time IS NOT NULL\n",
    "GROUP BY dia_semana\n",
    "ORDER BY cantidad_ventas DESC;\n",
    "\"\"\"\n",
    "\n",
    "db.get_session().execute(text(vista_ventas_por_dia))\n",
    "print(\"✅ Vista 'vista_ventas_por_dia_semana' creada correctamente\")"
   ]
  },
  {
   "cell_type": "code",
   "execution_count": 7,
   "id": "e76efd91",
   "metadata": {},
   "outputs": [
    {
     "data": {
      "text/html": [
       "<div>\n",
       "<style scoped>\n",
       "    .dataframe tbody tr th:only-of-type {\n",
       "        vertical-align: middle;\n",
       "    }\n",
       "\n",
       "    .dataframe tbody tr th {\n",
       "        vertical-align: top;\n",
       "    }\n",
       "\n",
       "    .dataframe thead th {\n",
       "        text-align: right;\n",
       "    }\n",
       "</style>\n",
       "<table border=\"1\" class=\"dataframe\">\n",
       "  <thead>\n",
       "    <tr style=\"text-align: right;\">\n",
       "      <th></th>\n",
       "      <th>dia_semana</th>\n",
       "      <th>cantidad_ventas</th>\n",
       "      <th>total_recaudado</th>\n",
       "    </tr>\n",
       "  </thead>\n",
       "  <tbody>\n",
       "    <tr>\n",
       "      <th>1</th>\n",
       "      <td>Friday</td>\n",
       "      <td>1305</td>\n",
       "      <td>208033.00</td>\n",
       "    </tr>\n",
       "    <tr>\n",
       "      <th>2</th>\n",
       "      <td>Tuesday</td>\n",
       "      <td>1300</td>\n",
       "      <td>206792.00</td>\n",
       "    </tr>\n",
       "    <tr>\n",
       "      <th>3</th>\n",
       "      <td>Monday</td>\n",
       "      <td>1271</td>\n",
       "      <td>199737.00</td>\n",
       "    </tr>\n",
       "    <tr>\n",
       "      <th>4</th>\n",
       "      <td>Thursday</td>\n",
       "      <td>1264</td>\n",
       "      <td>197358.00</td>\n",
       "    </tr>\n",
       "    <tr>\n",
       "      <th>5</th>\n",
       "      <td>Wednesday</td>\n",
       "      <td>1259</td>\n",
       "      <td>202361.00</td>\n",
       "    </tr>\n",
       "    <tr>\n",
       "      <th>6</th>\n",
       "      <td>Sunday</td>\n",
       "      <td>1246</td>\n",
       "      <td>201692.00</td>\n",
       "    </tr>\n",
       "    <tr>\n",
       "      <th>7</th>\n",
       "      <td>Saturday</td>\n",
       "      <td>1226</td>\n",
       "      <td>197523.00</td>\n",
       "    </tr>\n",
       "  </tbody>\n",
       "</table>\n",
       "</div>"
      ],
      "text/plain": [
       "  dia_semana  cantidad_ventas total_recaudado\n",
       "1     Friday             1305       208033.00\n",
       "2    Tuesday             1300       206792.00\n",
       "3     Monday             1271       199737.00\n",
       "4   Thursday             1264       197358.00\n",
       "5  Wednesday             1259       202361.00\n",
       "6     Sunday             1246       201692.00\n",
       "7   Saturday             1226       197523.00"
      ]
     },
     "execution_count": 7,
     "metadata": {},
     "output_type": "execute_result"
    }
   ],
   "source": [
    "df_dias = db.run_query(\"SELECT * FROM vista_ventas_por_dia_semana\")\n",
    "df_dias = df_dias[df_dias['dia_semana'].notnull()]\n",
    "df_dias\n"
   ]
  }
 ],
 "metadata": {
  "kernelspec": {
   "display_name": "venv",
   "language": "python",
   "name": "python3"
  },
  "language_info": {
   "codemirror_mode": {
    "name": "ipython",
    "version": 3
   },
   "file_extension": ".py",
   "mimetype": "text/x-python",
   "name": "python",
   "nbconvert_exporter": "python",
   "pygments_lexer": "ipython3",
   "version": "3.13.2"
  }
 },
 "nbformat": 4,
 "nbformat_minor": 5
}
